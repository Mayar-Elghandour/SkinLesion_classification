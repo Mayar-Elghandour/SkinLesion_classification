{
 "cells": [
  {
   "cell_type": "code",
   "execution_count": 1,
   "id": "812e0601",
   "metadata": {
    "_cell_guid": "b1076dfc-b9ad-4769-8c92-a6c4dae69d19",
    "_uuid": "8f2839f25d086af736a60e9eeb907d3b93b6e0e5",
    "execution": {
     "iopub.execute_input": "2024-12-25T15:43:11.858091Z",
     "iopub.status.busy": "2024-12-25T15:43:11.857710Z",
     "iopub.status.idle": "2024-12-25T15:43:15.435622Z",
     "shell.execute_reply": "2024-12-25T15:43:15.434563Z"
    },
    "papermill": {
     "duration": 3.585596,
     "end_time": "2024-12-25T15:43:15.437579",
     "exception": false,
     "start_time": "2024-12-25T15:43:11.851983",
     "status": "completed"
    },
    "tags": []
   },
   "outputs": [],
   "source": [
    "import cv2\n",
    "import pandas as pd\n",
    "from mlxtend.feature_selection import SequentialFeatureSelector\n",
    "from sklearn.model_selection import train_test_split\n",
    "from sklearn.ensemble import RandomForestClassifier\n",
    "from sklearn.linear_model import LogisticRegression\n",
    "from sklearn.model_selection import cross_val_score\n",
    "import statsmodels.api as sm"
   ]
  },
  {
   "cell_type": "code",
   "execution_count": 2,
   "id": "327e78c6",
   "metadata": {
    "execution": {
     "iopub.execute_input": "2024-12-25T15:43:15.447258Z",
     "iopub.status.busy": "2024-12-25T15:43:15.446704Z",
     "iopub.status.idle": "2024-12-25T15:43:15.502864Z",
     "shell.execute_reply": "2024-12-25T15:43:15.501437Z"
    },
    "papermill": {
     "duration": 0.062765,
     "end_time": "2024-12-25T15:43:15.504720",
     "exception": false,
     "start_time": "2024-12-25T15:43:15.441955",
     "status": "completed"
    },
    "tags": []
   },
   "outputs": [],
   "source": [
    "GLCM = pd.read_csv('/kaggle/input/graylevel/GLCM (1).csv')\n",
    "GLRLM = pd.read_csv('/kaggle/input/graylevel/GLRLM (1).csv')\n",
    "GLSZM = pd.read_csv('/kaggle/input/graylevel/GLSZM (1).csv')"
   ]
  },
  {
   "cell_type": "code",
   "execution_count": 3,
   "id": "35c048b7",
   "metadata": {
    "execution": {
     "iopub.execute_input": "2024-12-25T15:43:15.513688Z",
     "iopub.status.busy": "2024-12-25T15:43:15.513271Z",
     "iopub.status.idle": "2024-12-25T15:43:15.533740Z",
     "shell.execute_reply": "2024-12-25T15:43:15.532630Z"
    },
    "papermill": {
     "duration": 0.027052,
     "end_time": "2024-12-25T15:43:15.535731",
     "exception": false,
     "start_time": "2024-12-25T15:43:15.508679",
     "status": "completed"
    },
    "tags": []
   },
   "outputs": [],
   "source": [
    "XC = GLCM.iloc[:, 1:11]\n",
    "XRL = GLRLM.iloc[:, 1:11]\n",
    "XSZ = GLSZM.iloc[:, 1:11]\n",
    "y = GLRLM.iloc[:, 0]\n",
    "target_mapping = {label: idx for idx, label in enumerate(y.unique())}\n",
    "y = y.map(target_mapping)"
   ]
  },
  {
   "cell_type": "code",
   "execution_count": 4,
   "id": "5c4e3938",
   "metadata": {
    "execution": {
     "iopub.execute_input": "2024-12-25T15:43:15.544743Z",
     "iopub.status.busy": "2024-12-25T15:43:15.544362Z",
     "iopub.status.idle": "2024-12-25T15:43:15.555604Z",
     "shell.execute_reply": "2024-12-25T15:43:15.554748Z"
    },
    "papermill": {
     "duration": 0.017717,
     "end_time": "2024-12-25T15:43:15.557503",
     "exception": false,
     "start_time": "2024-12-25T15:43:15.539786",
     "status": "completed"
    },
    "tags": []
   },
   "outputs": [],
   "source": [
    "XC_train, XC_test, yC_train, yC_test = train_test_split(XC,y, test_size=0.3, random_state=100)\n",
    "XRL_train, XRL_test, yRL_train, yRL_test = train_test_split(XRL,y, test_size=0.3, random_state=100)\n",
    "XSZ_train, XSZ_test, ySZ_train, ySZ_test = train_test_split(XSZ,y, test_size=0.3, random_state=100)"
   ]
  },
  {
   "cell_type": "code",
   "execution_count": 5,
   "id": "39ea55fa",
   "metadata": {
    "execution": {
     "iopub.execute_input": "2024-12-25T15:43:15.566256Z",
     "iopub.status.busy": "2024-12-25T15:43:15.565886Z",
     "iopub.status.idle": "2024-12-25T15:43:15.572016Z",
     "shell.execute_reply": "2024-12-25T15:43:15.570873Z"
    },
    "papermill": {
     "duration": 0.012235,
     "end_time": "2024-12-25T15:43:15.573608",
     "exception": false,
     "start_time": "2024-12-25T15:43:15.561373",
     "status": "completed"
    },
    "tags": []
   },
   "outputs": [],
   "source": [
    "def forward_selection(data, target, significance_level=0.05):\n",
    "    initial_features = data.columns.tolist()\n",
    "    best_features = []\n",
    "    while (len(initial_features)>0):\n",
    "        remaining_features = list(set(initial_features)-set(best_features))\n",
    "        new_pval = pd.Series(index=remaining_features)\n",
    "        for new_column in remaining_features:\n",
    "            model = sm.OLS(target, sm.add_constant(data[best_features+[new_column]])).fit()\n",
    "            new_pval[new_column] = model.pvalues[new_column]\n",
    "        min_p_value = new_pval.min()\n",
    "        if(min_p_value<significance_level):\n",
    "            best_features.append(new_pval.idxmin())\n",
    "        else:\n",
    "            break\n",
    "    return best_features"
   ]
  },
  {
   "cell_type": "code",
   "execution_count": 6,
   "id": "76554b6c",
   "metadata": {
    "execution": {
     "iopub.execute_input": "2024-12-25T15:43:15.582075Z",
     "iopub.status.busy": "2024-12-25T15:43:15.581736Z",
     "iopub.status.idle": "2024-12-25T15:43:15.911077Z",
     "shell.execute_reply": "2024-12-25T15:43:15.909935Z"
    },
    "papermill": {
     "duration": 0.335639,
     "end_time": "2024-12-25T15:43:15.912889",
     "exception": false,
     "start_time": "2024-12-25T15:43:15.577250",
     "status": "completed"
    },
    "tags": []
   },
   "outputs": [
    {
     "name": "stdout",
     "output_type": "stream",
     "text": [
      "['Energy']\n",
      "['original_glrlm_GrayLevelVariance', 'original_glrlm_RunLengthNonUniformity', 'original_glrlm_LongRunEmphasis', 'original_glrlm_ShortRunEmphasis', 'original_glrlm_RunEntropy']\n",
      "['original_glszm_SmallAreaEmphasis', 'original_glszm_LargeAreaHighGrayLevelEmphasis', 'original_glszm_GrayLevelVariance', 'original_glszm_GrayLevelNonUniformity', 'original_glszm_SmallAreaLowGrayLevelEmphasis', 'original_glszm_LowGrayLevelZoneEmphasis']\n"
     ]
    }
   ],
   "source": [
    "print(forward_selection(XC_train,yC_train))\n",
    "print(forward_selection(XRL_train,yRL_train))\n",
    "print(forward_selection(XSZ_train,ySZ_train))"
   ]
  },
  {
   "cell_type": "code",
   "execution_count": 7,
   "id": "200ac611",
   "metadata": {
    "execution": {
     "iopub.execute_input": "2024-12-25T15:43:15.922678Z",
     "iopub.status.busy": "2024-12-25T15:43:15.922254Z",
     "iopub.status.idle": "2024-12-25T15:43:27.070172Z",
     "shell.execute_reply": "2024-12-25T15:43:27.068860Z"
    },
    "papermill": {
     "duration": 11.155375,
     "end_time": "2024-12-25T15:43:27.072417",
     "exception": false,
     "start_time": "2024-12-25T15:43:15.917042",
     "status": "completed"
    },
    "tags": []
   },
   "outputs": [
    {
     "name": "stderr",
     "output_type": "stream",
     "text": [
      "\n",
      "[2024-12-25 15:43:21] Features: 1/3 -- score: 0.3148742924838752\n",
      "[2024-12-25 15:43:25] Features: 2/3 -- score: 0.40582247378351105\n",
      "[2024-12-25 15:43:27] Features: 3/3 -- score: 0.4854723355710588"
     ]
    }
   ],
   "source": [
    "forward_feature_selection_GLCM = SequentialFeatureSelector(RandomForestClassifier(n_jobs=-1),\n",
    "                                                     k_features= 'best',\n",
    "                                                     forward=True,\n",
    "                                                     floating=False,\n",
    "                                                     verbose=2,\n",
    "                                                     scoring= \"accuracy\",\n",
    "                                                     cv= 5).fit(XC_train, yC_train)"
   ]
  },
  {
   "cell_type": "code",
   "execution_count": 8,
   "id": "18fb54c4",
   "metadata": {
    "execution": {
     "iopub.execute_input": "2024-12-25T15:43:27.082355Z",
     "iopub.status.busy": "2024-12-25T15:43:27.081998Z",
     "iopub.status.idle": "2024-12-25T15:43:27.088612Z",
     "shell.execute_reply": "2024-12-25T15:43:27.087689Z"
    },
    "papermill": {
     "duration": 0.013425,
     "end_time": "2024-12-25T15:43:27.090414",
     "exception": false,
     "start_time": "2024-12-25T15:43:27.076989",
     "status": "completed"
    },
    "tags": []
   },
   "outputs": [
    {
     "data": {
      "text/plain": [
       "('Contrast', 'Energy', 'Correlation')"
      ]
     },
     "execution_count": 8,
     "metadata": {},
     "output_type": "execute_result"
    }
   ],
   "source": [
    "forward_feature_selection_GLCM.k_feature_names_"
   ]
  },
  {
   "cell_type": "code",
   "execution_count": 9,
   "id": "1f585c84",
   "metadata": {
    "execution": {
     "iopub.execute_input": "2024-12-25T15:43:27.100336Z",
     "iopub.status.busy": "2024-12-25T15:43:27.100003Z",
     "iopub.status.idle": "2024-12-25T15:45:09.871979Z",
     "shell.execute_reply": "2024-12-25T15:45:09.870732Z"
    },
    "papermill": {
     "duration": 102.779127,
     "end_time": "2024-12-25T15:45:09.873925",
     "exception": false,
     "start_time": "2024-12-25T15:43:27.094798",
     "status": "completed"
    },
    "tags": []
   },
   "outputs": [
    {
     "name": "stderr",
     "output_type": "stream",
     "text": [
      "\n",
      "[2024-12-25 15:43:45] Features: 1/10 -- score: 0.327997893905489\n",
      "[2024-12-25 15:44:02] Features: 2/10 -- score: 0.4395375367469615\n",
      "[2024-12-25 15:44:16] Features: 3/10 -- score: 0.4779957000570401\n",
      "[2024-12-25 15:44:30] Features: 4/10 -- score: 0.5248563029265938\n",
      "[2024-12-25 15:44:41] Features: 5/10 -- score: 0.5492255714975209\n",
      "[2024-12-25 15:44:50] Features: 6/10 -- score: 0.5539335702689658\n",
      "[2024-12-25 15:44:58] Features: 7/10 -- score: 0.558624018252819\n",
      "[2024-12-25 15:45:03] Features: 8/10 -- score: 0.5520380852090738\n",
      "[2024-12-25 15:45:07] Features: 9/10 -- score: 0.5483041551489622\n",
      "[2024-12-25 15:45:09] Features: 10/10 -- score: 0.5501601509367733"
     ]
    }
   ],
   "source": [
    "forward_feature_selection_GLRLM = SequentialFeatureSelector(RandomForestClassifier(n_jobs=-1),\n",
    "                                                     k_features= 'best',\n",
    "                                                     forward=True,\n",
    "                                                     floating=False,\n",
    "                                                     verbose=2,\n",
    "                                                     scoring= \"accuracy\",\n",
    "                                                     cv= 5).fit(XRL_train, yRL_train)"
   ]
  },
  {
   "cell_type": "code",
   "execution_count": 10,
   "id": "2dd80682",
   "metadata": {
    "execution": {
     "iopub.execute_input": "2024-12-25T15:45:09.884709Z",
     "iopub.status.busy": "2024-12-25T15:45:09.884324Z",
     "iopub.status.idle": "2024-12-25T15:45:09.890229Z",
     "shell.execute_reply": "2024-12-25T15:45:09.889368Z"
    },
    "papermill": {
     "duration": 0.012881,
     "end_time": "2024-12-25T15:45:09.891726",
     "exception": false,
     "start_time": "2024-12-25T15:45:09.878845",
     "status": "completed"
    },
    "tags": []
   },
   "outputs": [
    {
     "data": {
      "text/plain": [
       "('original_glrlm_GrayLevelVariance',\n",
       " 'original_glrlm_LongRunEmphasis',\n",
       " 'original_glrlm_LongRunHighGrayLevelEmphasis',\n",
       " 'original_glrlm_LowGrayLevelRunEmphasis',\n",
       " 'original_glrlm_RunEntropy',\n",
       " 'original_glrlm_RunLengthNonUniformity',\n",
       " 'original_glrlm_ShortRunEmphasis')"
      ]
     },
     "execution_count": 10,
     "metadata": {},
     "output_type": "execute_result"
    }
   ],
   "source": [
    "forward_feature_selection_GLRLM.k_feature_names_"
   ]
  },
  {
   "cell_type": "code",
   "execution_count": 11,
   "id": "c690481e",
   "metadata": {
    "execution": {
     "iopub.execute_input": "2024-12-25T15:45:09.902578Z",
     "iopub.status.busy": "2024-12-25T15:45:09.902207Z",
     "iopub.status.idle": "2024-12-25T15:46:52.034695Z",
     "shell.execute_reply": "2024-12-25T15:46:52.033446Z"
    },
    "papermill": {
     "duration": 102.140044,
     "end_time": "2024-12-25T15:46:52.036693",
     "exception": false,
     "start_time": "2024-12-25T15:45:09.896649",
     "status": "completed"
    },
    "tags": []
   },
   "outputs": [
    {
     "name": "stderr",
     "output_type": "stream",
     "text": [
      "\n",
      "[2024-12-25 15:45:27] Features: 1/10 -- score: 0.31865648720986356\n",
      "[2024-12-25 15:45:44] Features: 2/10 -- score: 0.40676582861655924\n",
      "[2024-12-25 15:45:58] Features: 3/10 -- score: 0.46020797683296044\n",
      "[2024-12-25 15:46:12] Features: 4/10 -- score: 0.4995480672195165\n",
      "[2024-12-25 15:46:23] Features: 5/10 -- score: 0.519235663200386\n",
      "[2024-12-25 15:46:32] Features: 6/10 -- score: 0.5323461015313062\n",
      "[2024-12-25 15:46:40] Features: 7/10 -- score: 0.531411522092054\n",
      "[2024-12-25 15:46:46] Features: 8/10 -- score: 0.5342240358036067\n",
      "[2024-12-25 15:46:50] Features: 9/10 -- score: 0.5417357728928086\n",
      "[2024-12-25 15:46:52] Features: 10/10 -- score: 0.5314159097889517"
     ]
    }
   ],
   "source": [
    "forward_feature_selection_GLSZM = SequentialFeatureSelector(RandomForestClassifier(n_jobs=-1),\n",
    "                                                     k_features= 'best',\n",
    "                                                     forward=True,\n",
    "                                                     floating=False,\n",
    "                                                     verbose=2,\n",
    "                                                     scoring= \"accuracy\",\n",
    "                                                     cv= 5).fit(XSZ_train, ySZ_train)"
   ]
  },
  {
   "cell_type": "code",
   "execution_count": 12,
   "id": "17a8c796",
   "metadata": {
    "execution": {
     "iopub.execute_input": "2024-12-25T15:46:52.049150Z",
     "iopub.status.busy": "2024-12-25T15:46:52.048786Z",
     "iopub.status.idle": "2024-12-25T15:46:52.055092Z",
     "shell.execute_reply": "2024-12-25T15:46:52.053904Z"
    },
    "papermill": {
     "duration": 0.014464,
     "end_time": "2024-12-25T15:46:52.056944",
     "exception": false,
     "start_time": "2024-12-25T15:46:52.042480",
     "status": "completed"
    },
    "tags": []
   },
   "outputs": [
    {
     "data": {
      "text/plain": [
       "('original_glszm_GrayLevelNonUniformity',\n",
       " 'original_glszm_GrayLevelNonUniformityNormalized',\n",
       " 'original_glszm_GrayLevelVariance',\n",
       " 'original_glszm_HighGrayLevelZoneEmphasis',\n",
       " 'original_glszm_LargeAreaHighGrayLevelEmphasis',\n",
       " 'original_glszm_SmallAreaEmphasis',\n",
       " 'original_glszm_SmallAreaLowGrayLevelEmphasis',\n",
       " 'original_glszm_ZoneEntropy',\n",
       " 'original_glszm_ZonePercentage')"
      ]
     },
     "execution_count": 12,
     "metadata": {},
     "output_type": "execute_result"
    }
   ],
   "source": [
    "forward_feature_selection_GLSZM.k_feature_names_"
   ]
  },
  {
   "cell_type": "code",
   "execution_count": 13,
   "id": "d2abb1c9",
   "metadata": {
    "execution": {
     "iopub.execute_input": "2024-12-25T15:46:52.069581Z",
     "iopub.status.busy": "2024-12-25T15:46:52.069200Z",
     "iopub.status.idle": "2024-12-25T15:50:32.308837Z",
     "shell.execute_reply": "2024-12-25T15:50:32.307655Z"
    },
    "papermill": {
     "duration": 220.247916,
     "end_time": "2024-12-25T15:50:32.310694",
     "exception": false,
     "start_time": "2024-12-25T15:46:52.062778",
     "status": "completed"
    },
    "tags": []
   },
   "outputs": [
    {
     "name": "stderr",
     "output_type": "stream",
     "text": [
      "\n",
      "[2024-12-25 15:47:13] Features: 9/1 -- score: 0.5567416962836207\n",
      "[2024-12-25 15:47:30] Features: 8/1 -- score: 0.5567153701022333\n",
      "[2024-12-25 15:47:49] Features: 7/1 -- score: 0.5538984686937827\n",
      "[2024-12-25 15:48:08] Features: 6/1 -- score: 0.5520600236935633\n",
      "[2024-12-25 15:48:32] Features: 6/1 -- score: 0.559527883813786\n",
      "[2024-12-25 15:48:51] Features: 5/1 -- score: 0.5539160194813741\n",
      "[2024-12-25 15:49:10] Features: 4/1 -- score: 0.5398666140143038\n",
      "[2024-12-25 15:49:37] Features: 4/1 -- score: 0.5464042823921723\n",
      "[2024-12-25 15:49:56] Features: 3/1 -- score: 0.5333157825457417\n",
      "[2024-12-25 15:50:14] Features: 2/1 -- score: 0.4451976657452503\n",
      "[2024-12-25 15:50:32] Features: 1/1 -- score: 0.2923961212759423"
     ]
    }
   ],
   "source": [
    "bakward_feature_selector = SequentialFeatureSelector(RandomForestClassifier(n_jobs=-1),\n",
    "                                                    k_features='best',\n",
    "                                                    forward=False,\n",
    "                                                    floating=True,\n",
    "                                                    verbose=2,\n",
    "                                                    scoring= \"accuracy\",\n",
    "                                                    cv= 5).fit(XRL_train, yRL_train)"
   ]
  },
  {
   "cell_type": "code",
   "execution_count": 14,
   "id": "b2ba7041",
   "metadata": {
    "execution": {
     "iopub.execute_input": "2024-12-25T15:50:32.324325Z",
     "iopub.status.busy": "2024-12-25T15:50:32.323937Z",
     "iopub.status.idle": "2024-12-25T15:50:32.329873Z",
     "shell.execute_reply": "2024-12-25T15:50:32.328802Z"
    },
    "papermill": {
     "duration": 0.014502,
     "end_time": "2024-12-25T15:50:32.331381",
     "exception": false,
     "start_time": "2024-12-25T15:50:32.316879",
     "status": "completed"
    },
    "tags": []
   },
   "outputs": [
    {
     "data": {
      "text/plain": [
       "('original_glrlm_LongRunEmphasis',\n",
       " 'original_glrlm_RunEntropy',\n",
       " 'original_glrlm_RunLengthNonUniformity',\n",
       " 'original_glrlm_ShortRunEmphasis',\n",
       " 'original_glrlm_ShortRunHighGrayLevelEmphasis',\n",
       " 'original_glrlm_ShortRunLowGrayLevelEmphasis')"
      ]
     },
     "execution_count": 14,
     "metadata": {},
     "output_type": "execute_result"
    }
   ],
   "source": [
    "bakward_feature_selector.k_feature_names_"
   ]
  },
  {
   "cell_type": "code",
   "execution_count": 15,
   "id": "8f0a2562",
   "metadata": {
    "execution": {
     "iopub.execute_input": "2024-12-25T15:50:32.345067Z",
     "iopub.status.busy": "2024-12-25T15:50:32.344733Z",
     "iopub.status.idle": "2024-12-25T15:50:32.513000Z",
     "shell.execute_reply": "2024-12-25T15:50:32.511642Z"
    },
    "papermill": {
     "duration": 0.176995,
     "end_time": "2024-12-25T15:50:32.514547",
     "exception": true,
     "start_time": "2024-12-25T15:50:32.337552",
     "status": "failed"
    },
    "tags": []
   },
   "outputs": [
    {
     "ename": "NameError",
     "evalue": "name 'backward_feature_selector' is not defined",
     "output_type": "error",
     "traceback": [
      "\u001b[0;31m---------------------------------------------------------------------------\u001b[0m",
      "\u001b[0;31mNameError\u001b[0m                                 Traceback (most recent call last)",
      "\u001b[0;32m<ipython-input-15-b3e172af6204>\u001b[0m in \u001b[0;36m<cell line: 1>\u001b[0;34m()\u001b[0m\n\u001b[0;32m----> 1\u001b[0;31m \u001b[0mbackward_feature_selector\u001b[0m\u001b[0;34m.\u001b[0m\u001b[0mk_score_\u001b[0m\u001b[0;34m\u001b[0m\u001b[0;34m\u001b[0m\u001b[0m\n\u001b[0m",
      "\u001b[0;31mNameError\u001b[0m: name 'backward_feature_selector' is not defined"
     ]
    }
   ],
   "source": [
    "backward_feature_selector.k_score_"
   ]
  },
  {
   "cell_type": "code",
   "execution_count": null,
   "id": "02f7d5aa",
   "metadata": {
    "papermill": {
     "duration": null,
     "end_time": null,
     "exception": null,
     "start_time": null,
     "status": "pending"
    },
    "tags": []
   },
   "outputs": [],
   "source": []
  }
 ],
 "metadata": {
  "kaggle": {
   "accelerator": "none",
   "dataSources": [
    {
     "datasetId": 6357547,
     "sourceId": 10274793,
     "sourceType": "datasetVersion"
    }
   ],
   "dockerImageVersionId": 30822,
   "isGpuEnabled": false,
   "isInternetEnabled": true,
   "language": "python",
   "sourceType": "notebook"
  },
  "kernelspec": {
   "display_name": "Python 3",
   "language": "python",
   "name": "python3"
  },
  "language_info": {
   "codemirror_mode": {
    "name": "ipython",
    "version": 3
   },
   "file_extension": ".py",
   "mimetype": "text/x-python",
   "name": "python",
   "nbconvert_exporter": "python",
   "pygments_lexer": "ipython3",
   "version": "3.10.12"
  },
  "papermill": {
   "default_parameters": {},
   "duration": 443.711961,
   "end_time": "2024-12-25T15:50:33.242792",
   "environment_variables": {},
   "exception": true,
   "input_path": "__notebook__.ipynb",
   "output_path": "__notebook__.ipynb",
   "parameters": {},
   "start_time": "2024-12-25T15:43:09.530831",
   "version": "2.6.0"
  }
 },
 "nbformat": 4,
 "nbformat_minor": 5
}
